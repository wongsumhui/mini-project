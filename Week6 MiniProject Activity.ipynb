{
 "cells": [
  {
   "cell_type": "code",
   "execution_count": 1,
   "id": "0e985775",
   "metadata": {},
   "outputs": [],
   "source": [
    "import cv2 as cv\n",
    "import numpy as np\n",
    "from utils import display_image, display_images"
   ]
  },
  {
   "cell_type": "markdown",
   "id": "fffe9a51",
   "metadata": {},
   "source": [
    "# Question 1"
   ]
  },
  {
   "cell_type": "code",
   "execution_count": null,
   "id": "2cdf37c4",
   "metadata": {},
   "outputs": [],
   "source": [
    "img = cv.imread(\"images/native-bee.png\")\n",
    "\n",
    "kernel1 = np.array([[0, -1, 0],\n",
    "                  [-1, 5, -1],\n",
    "                  [0, -1, 0]])\n",
    "kernel2 = np.ones((5,5)) * -1\n",
    "kernel2[2][2] = 25\n",
    "dst1 = cv.filter2D(img, -1, kernel1)\n",
    "dst2 = cv.filter2D(img, -1, kernel2)\n",
    "\n",
    "display_images([img, dst1, dst2], (\"original\", \"sharpen(3X3)\",\"sharpen(5X5)\"))"
   ]
  },
  {
   "cell_type": "markdown",
   "id": "f2e93b40",
   "metadata": {},
   "source": [
    "# Question 2\n",
    "\n",
    "Apply different image smoothing techniques (e.g. average filter, Gaussian kernel and median filter) on 'noise_lena.jpg' and display the resulting images after the convolution. Comment on the outcomes and deduce the type of noise present on the image."
   ]
  },
  {
   "cell_type": "code",
   "execution_count": null,
   "id": "c9a58192",
   "metadata": {},
   "outputs": [],
   "source": [
    "img = cv.imread(\"images/noise_lena.jpg\")\n",
    "avg_filter = cv.blur(img, (3,3))\n",
    "gaussian_filter = cv.GaussianBlur(img, (3,3), 0)\n",
    "median_filter = cv.medianBlur(img, 3)\n",
    "display_images([img, avg_filter, gaussian_filter, median_filter],(\"Original\", \"Average Filter\", \"Gaussian Filter\", \"Median Filter\"))"
   ]
  },
  {
   "cell_type": "markdown",
   "id": "65e14ce4",
   "metadata": {},
   "source": [
    "Average Filter: The resulting image appears smoother, with a reduction in noise. However, some blurring and loss of detail, especially at edges, can be observed. This filter is not very effective against salt-and-pepper noise.\n",
    "\n",
    "Gaussian Filter: The Gaussian filtered image also appears smoother and with reduced noise. This filter is generally effective at reducing Gaussian noise while preserving more detail compared to the average filter.\n",
    "\n",
    "Median Filter: The median filtered image shows a significant reduction in salt-and-pepper noise, with edges preserved better than with the average and Gaussian filters. This filter is particularly effective for images with impulse noise."
   ]
  },
  {
   "cell_type": "markdown",
   "id": "d2a34f9a",
   "metadata": {},
   "source": [
    "# Question 3\n",
    "Write a program to segment the boat and the people on it from the background. Follow the instruction below:\n",
    "Use 'boat.jpg' as input.\n",
    "Apply Otsu thresholding.\n",
    "Draw bounding box to identify the region where the boat and people are located."
   ]
  },
  {
   "cell_type": "code",
   "execution_count": 3,
   "id": "a5268a95",
   "metadata": {},
   "outputs": [],
   "source": [
    "img = cv.imread(\"images/boat.jpg\")\n",
    "display_image(\"color\",img)\n",
    "gray = cv.cvtColor(img,cv.COLOR_BGR2GRAY)\n",
    "th = cv.threshold(gray, 0, 255, cv.THRESH_BINARY_INV | cv.THRESH_OTSU)[1]\n",
    "contours, _ = cv.findContours(th, cv.RETR_EXTERNAL, cv.CHAIN_APPROX_SIMPLE)\n",
    "contour_max_area = sorted(contours, key = cv.contourArea, reverse = True)[0]\n",
    "x,y,w,h = cv.boundingRect(contour_max_area)\n",
    "img_copy = img.copy()\n",
    "cv.rectangle(img_copy,(x,y),(x+w,y+h),(0,255,0),2)\n",
    "display_image(\"BoundingBox\",img_copy)"
   ]
  }
 ],
 "metadata": {
  "kernelspec": {
   "display_name": "Python 3 (ipykernel)",
   "language": "python",
   "name": "python3"
  },
  "language_info": {
   "codemirror_mode": {
    "name": "ipython",
    "version": 3
   },
   "file_extension": ".py",
   "mimetype": "text/x-python",
   "name": "python",
   "nbconvert_exporter": "python",
   "pygments_lexer": "ipython3",
   "version": "3.11.4"
  }
 },
 "nbformat": 4,
 "nbformat_minor": 5
}
