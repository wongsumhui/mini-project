{
 "cells": [
  {
   "cell_type": "code",
   "execution_count": 37,
   "id": "39668fd5",
   "metadata": {},
   "outputs": [],
   "source": [
    "# 1. Find the range of values for each of the following data types"
   ]
  },
  {
   "cell_type": "code",
   "execution_count": 38,
   "id": "47843ec5",
   "metadata": {},
   "outputs": [
    {
     "name": "stdout",
     "output_type": "stream",
     "text": [
      "Range of uint8 : 0 to 255\n",
      "Range of int8 : -128 to 127\n",
      "Range of uint32 : 0 to 4294967295\n",
      "Range of int32 : -2147483648 to 2147483647\n"
     ]
    }
   ],
   "source": [
    "import numpy as np\n",
    "\n",
    "# uint8\n",
    "min_uint8 = np.iinfo(np.uint8).min\n",
    "max_uint8 = np.iinfo(np.uint8).max\n",
    "print(f\"Range of uint8 : {min_uint8} to {max_uint8}\")\n",
    "\n",
    "# int8\n",
    "min_int8 = np.iinfo(np.int8).min\n",
    "max_int8 = np.iinfo(np.int8).max\n",
    "print(f\"Range of int8 : {min_int8} to {max_int8}\")\n",
    "\n",
    "# uint32\n",
    "min_uint32= np.iinfo(np.uint32).min\n",
    "max_uint32= np.iinfo(np.uint32).max\n",
    "print(f\"Range of uint32 : {min_uint32} to {max_uint32}\")\n",
    "\n",
    "# int32\n",
    "min_int32= np.iinfo(np.int32).min\n",
    "max_int32= np.iinfo(np.int32).max\n",
    "print(f\"Range of int32 : {min_int32} to {max_int32}\")"
   ]
  },
  {
   "cell_type": "code",
   "execution_count": 39,
   "id": "9bf027e8",
   "metadata": {},
   "outputs": [],
   "source": [
    "# 2. Try to write a simple custom function to determine whether a given integer is odd or even number."
   ]
  },
  {
   "cell_type": "code",
   "execution_count": 40,
   "id": "2986ebb0",
   "metadata": {},
   "outputs": [],
   "source": [
    "def even_odd(x):\n",
    "    if isinstance(x,int):\n",
    "        if x % 2 == 0:\n",
    "            return (f\"{x} is an even number\")\n",
    "        else:\n",
    "            return (f\"{x} is an odd number\")\n",
    "    else:\n",
    "        return (f\"{x} is not an integer\")"
   ]
  },
  {
   "cell_type": "code",
   "execution_count": 41,
   "id": "e634007f",
   "metadata": {},
   "outputs": [
    {
     "data": {
      "text/plain": [
       "'8 is an even number'"
      ]
     },
     "execution_count": 41,
     "metadata": {},
     "output_type": "execute_result"
    }
   ],
   "source": [
    "#test for even number\n",
    "x=8\n",
    "even_odd(x)"
   ]
  },
  {
   "cell_type": "code",
   "execution_count": 42,
   "id": "e56b6699",
   "metadata": {},
   "outputs": [],
   "source": [
    "# 3. Write a simple example code to show that Numpy is more efficient in numerical computation of large arrays of data \n",
    "#    than equivalent Python list."
   ]
  },
  {
   "cell_type": "code",
   "execution_count": 43,
   "id": "4b58265d",
   "metadata": {},
   "outputs": [
    {
     "name": "stdout",
     "output_type": "stream",
     "text": [
      "Python list:\n",
      "Time taken: 0.1434488296508789 seconds\n",
      "\n",
      "NumPy array:\n",
      "Time taken: 0.005061626434326172 seconds\n"
     ]
    }
   ],
   "source": [
    "import numpy as np\n",
    "import time\n",
    "\n",
    "#define the size \n",
    "size = 1000000\n",
    "\n",
    "#python and array list\n",
    "py_list = list(range(size))\n",
    "np_array = np.arange(size)\n",
    "\n",
    "# Function to perform measure time for Python list\n",
    "def multiply_python_list(data):\n",
    "    start_time = time.time()\n",
    "    \n",
    "    # Perform element-wise multiplication using list comprehension\n",
    "    result = [element * 2 for element in data]\n",
    "    \n",
    "    end_time = time.time()\n",
    "    return result, end_time - start_time\n",
    "\n",
    "# Function to perform measure time for NumPy array\n",
    "def multiply_numpy_array(data):\n",
    "    start_time = time.time()\n",
    "    \n",
    "    # Perform element-wise multiplication using NumPy\n",
    "    result = data * 2\n",
    "    \n",
    "    end_time = time.time()\n",
    "    return result, end_time - start_time\n",
    "\n",
    "# Measure time taken for Python list computation\n",
    "py_result, py_time = multiply_python_list(py_list)\n",
    "\n",
    "# Measure time taken for NumPy array computation\n",
    "np_result, np_time = multiply_numpy_array(np_array)\n",
    "\n",
    "# Print the results and time taken\n",
    "print(\"Python list:\")\n",
    "print(\"Time taken:\", py_time, \"seconds\")\n",
    "\n",
    "print(\"\\nNumPy array:\")\n",
    "print(\"Time taken:\", np_time, \"seconds\")"
   ]
  },
  {
   "cell_type": "code",
   "execution_count": 44,
   "id": "ba84e8e6",
   "metadata": {},
   "outputs": [
    {
     "name": "stdout",
     "output_type": "stream",
     "text": [
      "Initial my_arr:  [0 1 2 3 4 5 6 7 8 9]\n",
      "Initial arr_slice:  [0 1 2 3 4 5 6 7 8 9]\n",
      "my_arr:  [55  1  2  3  4  5  6  7  8  9]\n",
      "arr_slice:  [55  1  2  3  4  5  6  7  8  9]\n"
     ]
    }
   ],
   "source": [
    "# 4. \n",
    "# create a 1D array\n",
    "import numpy as np\n",
    "my_arr = np.arange(10)\n",
    "print(\"Initial my_arr: \", my_arr)\n",
    "arr_slice = my_arr\n",
    "print(\"Initial arr_slice: \", arr_slice)\n",
    "\n",
    "# change the first element of arr_slice\n",
    "arr_slice[0] = 55\n",
    "\n",
    "print(\"my_arr: \", my_arr)\n",
    "print(\"arr_slice: \", arr_slice)"
   ]
  },
  {
   "cell_type": "code",
   "execution_count": 45,
   "id": "a112a62e",
   "metadata": {},
   "outputs": [
    {
     "name": "stdout",
     "output_type": "stream",
     "text": [
      "Initial my_arr:  [0 1 2 3 4 5 6 7 8 9]\n",
      "Initial arr_slice: [0 1 2 3 4 5 6 7 8 9]\n",
      "my_arr:  [0 1 2 3 4 5 6 7 8 9]\n",
      "arr_slice:  [55  1  2  3  4  5  6  7  8  9]\n"
     ]
    }
   ],
   "source": [
    "# Question 4 answer\n",
    "\n",
    "my_arr = np.arange(10)\n",
    "print(\"Initial my_arr: \", my_arr)\n",
    "\n",
    "#copy the array\n",
    "arr_slice= my_arr.copy()\n",
    "print(\"Initial arr_slice:\", arr_slice)\n",
    "\n",
    "# change the first element of arr_slice\n",
    "arr_slice[0] = 55\n",
    "\n",
    "print(\"my_arr: \", my_arr)\n",
    "print(\"arr_slice: \", arr_slice)"
   ]
  },
  {
   "cell_type": "code",
   "execution_count": 46,
   "id": "c45c0c32",
   "metadata": {},
   "outputs": [],
   "source": [
    "#5. Create an image as shown as the following with the help of Numpy and matplotlib modules. \n",
    "#You can arbitrarily set the dimension of the image and white circular spot at the middle."
   ]
  },
  {
   "cell_type": "code",
   "execution_count": 47,
   "id": "5e6e5ec3",
   "metadata": {},
   "outputs": [
    {
     "data": {
      "image/png": "[encoded data removed]",
      "text/plain": [
       "<Figure size 640x480 with 1 Axes>"
      ]
     },
     "metadata": {},
     "output_type": "display_data"
    }
   ],
   "source": [
    "import matplotlib.pyplot as plt\n",
    "import numpy as np\n",
    "\n",
    "height= 250\n",
    "width= 250\n",
    "\n",
    "black = np.zeros((height, width))\n",
    "\n",
    "radius= width //8\n",
    "\n",
    "for y in range(height):\n",
    "    for x in range(width):\n",
    "        if(x -width//2)**2 + (y - height//2)**2 <= radius**2: \n",
    "        # checks whether the current pixel (x, y) is inside the circle.\n",
    "            black[y,x]=1\n",
    "# pixels inside circle set to 1('white'), outside remain 0(\"black\")\n",
    "\n",
    "#Display the circle\n",
    "plt.imshow(black, cmap='gray')\n",
    "plt.title('Dimension of the image and white circular spot at the middle')\n",
    "plt.show()"
   ]
  }
 ],
 "metadata": {
  "kernelspec": {
   "display_name": "Python 3 (ipykernel)",
   "language": "python",
   "name": "python3"
  },
  "language_info": {
   "codemirror_mode": {
    "name": "ipython",
    "version": 3
   },
   "file_extension": ".py",
   "mimetype": "text/x-python",
   "name": "python",
   "nbconvert_exporter": "python",
   "pygments_lexer": "ipython3",
   "version": "3.11.4"
  }
 },
 "nbformat": 4,
 "nbformat_minor": 5
}
